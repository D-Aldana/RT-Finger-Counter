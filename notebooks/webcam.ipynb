{
 "cells": [
  {
   "cell_type": "markdown",
   "metadata": {},
   "source": [
    "# Notebook Description\n",
    "\n",
    "This Jupyter Notebook demonstrates the usage of various code blocks and functionalities. It contains multiple cells, each serving a specific purpose. The notebook showcases the following:\n",
    "\n",
    "    Video Processing with OpenCV:\n",
    "    - Importing the OpenCV library\n",
    "    - Capturing video frames from a device\n",
    "    - Converting frames to grayscale\n",
    "    - Displaying the grayscale frames\n",
    "    - Exiting the video capture loop\n",
    "\n"
   ]
  },
  {
   "cell_type": "code",
   "execution_count": 1,
   "metadata": {},
   "outputs": [],
   "source": [
    "import cv2\n",
    "\n",
    "# define a video capture object \n",
    "vid = cv2.VideoCapture(0) \n",
    "\n",
    "if not vid.isOpened():\n",
    "    print(\"Could not open video device\")\n",
    "    exit()\n",
    "\n",
    "while(True): \n",
    "      \n",
    "    # Capture the video frame by frame \n",
    "    ret, frame = vid.read() \n",
    "    \n",
    "    gray = cv2.cvtColor(frame, cv2.COLOR_BGR2GRAY)\n",
    "    # Display the resulting frame\n",
    "    cv2.imshow('frame', gray) \n",
    "      \n",
    "    # the 'q' button is set as the \n",
    "    # quitting button you may use any \n",
    "    # desired button of your choice \n",
    "    if cv2.waitKey(1) & 0xFF == ord('q'): \n",
    "        break\n",
    "  \n",
    "# After the loop release the cap object \n",
    "vid.release() \n",
    "# Destroy all the windows \n",
    "cv2.destroyAllWindows() "
   ]
  }
 ],
 "metadata": {
  "kernelspec": {
   "display_name": "rt_webcam_ct",
   "language": "python",
   "name": "python3"
  },
  "language_info": {
   "codemirror_mode": {
    "name": "ipython",
    "version": 3
   },
   "file_extension": ".py",
   "mimetype": "text/x-python",
   "name": "python",
   "nbconvert_exporter": "python",
   "pygments_lexer": "ipython3",
   "version": "3.11.5"
  }
 },
 "nbformat": 4,
 "nbformat_minor": 2
}
