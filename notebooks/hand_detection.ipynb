{
 "cells": [
  {
   "cell_type": "code",
   "execution_count": 2,
   "metadata": {},
   "outputs": [
    {
     "name": "stdout",
     "output_type": "stream",
     "text": [
      "WARNING:tensorflow:From c:\\Users\\dusti\\anaconda3\\envs\\rt_webcam_ct\\Lib\\site-packages\\keras\\src\\losses.py:2976: The name tf.losses.sparse_softmax_cross_entropy is deprecated. Please use tf.compat.v1.losses.sparse_softmax_cross_entropy instead.\n",
      "\n"
     ]
    }
   ],
   "source": [
    "import cv2\n",
    "import numpy as np\n",
    "import mediapipe as mp\n",
    "import tensorflow as tf\n",
    "from tensorflow.keras.models import load_model\n",
    "from random import randint"
   ]
  },
  {
   "cell_type": "code",
   "execution_count": 3,
   "metadata": {},
   "outputs": [],
   "source": [
    "# initialize mediapipe\n",
    "mpHands = mp.solutions.hands\n",
    "hands = mpHands.Hands(max_num_hands=1, min_detection_confidence=0.7)\n",
    "mpDraw = mp.solutions.drawing_utils"
   ]
  },
  {
   "cell_type": "code",
   "execution_count": 4,
   "metadata": {},
   "outputs": [
    {
     "name": "stdout",
     "output_type": "stream",
     "text": [
      "WARNING:tensorflow:From c:\\Users\\dusti\\anaconda3\\envs\\rt_webcam_ct\\Lib\\site-packages\\keras\\src\\saving\\legacy\\saved_model\\load.py:107: The name tf.gfile.Exists is deprecated. Please use tf.io.gfile.exists instead.\n",
      "\n",
      "WARNING:tensorflow:From c:\\Users\\dusti\\anaconda3\\envs\\rt_webcam_ct\\Lib\\site-packages\\keras\\src\\saving\\legacy\\saved_model\\json_utils.py:187: The name tf.Dimension is deprecated. Please use tf.compat.v1.Dimension instead.\n",
      "\n",
      "['okay', 'scissors', 'thumbs up', 'thumbs down', 'call me', 'paper', 'rock', 'live long', 'rock', 'smile']\n"
     ]
    }
   ],
   "source": [
    "# Load the gesture recognizer model\n",
    "model = load_model('../models/hand-gesture-recognition-code/mp_hand_gesture')\n",
    "\n",
    "# Load class names\n",
    "f = open('../models/hand-gesture-recognition-code/gesture.names', 'r')\n",
    "classNames = f.read().split('\\n')\n",
    "f.close()\n"
   ]
  },
  {
   "cell_type": "code",
   "execution_count": 5,
   "metadata": {},
   "outputs": [],
   "source": [
    "def initializeVideoCapture():\n",
    "    cap = cv2.VideoCapture(0)\n",
    "    return cap"
   ]
  },
  {
   "cell_type": "code",
   "execution_count": 6,
   "metadata": {},
   "outputs": [],
   "source": [
    "def rockPaperScissors():\n",
    "    gestures = {\n",
    "        0: \"rock\",\n",
    "        1: \"paper\",\n",
    "        2: \"scissors\"\n",
    "    }\n",
    "\n",
    "    result = randint(0, 1000)  % 3\n",
    "    return gestures[result]"
   ]
  },
  {
   "cell_type": "code",
   "execution_count": 7,
   "metadata": {},
   "outputs": [],
   "source": [
    "def gameResult(user, computer):\n",
    "    if user == computer:\n",
    "        return -1\n",
    "    elif user == \"rock\":\n",
    "        if computer == \"paper\":\n",
    "            return 0\n",
    "        else:\n",
    "            return 1\n",
    "    elif user == \"paper\":\n",
    "        if computer == \"scissors\":\n",
    "            return 0\n",
    "        else:\n",
    "            return 1\n",
    "    elif user == \"scissors\":\n",
    "        if computer == \"Rock\":\n",
    "            return 0\n",
    "        else:\n",
    "            return 1"
   ]
  },
  {
   "cell_type": "code",
   "execution_count": 8,
   "metadata": {},
   "outputs": [],
   "source": [
    "def countdown(frame, seconds):\n",
    "    x, y, _ = frame.shape\n",
    "    for i in range(seconds, 0, -1):\n",
    "        cv2.rectangle(frame, (0, 0), (y, x), (0, 0, 0), -1)\n",
    "        centerText(str(i), frame)\n",
    "        cv2.imshow(\"Rock Paper Scissors\", frame)\n",
    "        cv2.waitKey(1000)\n"
   ]
  },
  {
   "cell_type": "code",
   "execution_count": 9,
   "metadata": {},
   "outputs": [],
   "source": [
    "def centerText(msg, frame, colour=(255, 255, 255)):\n",
    "    text = msg\n",
    "    font = cv2.FONT_HERSHEY_SIMPLEX\n",
    "    font_scale = 1\n",
    "    font_thickness = 2\n",
    "\n",
    "    # Get the size of the text\n",
    "    text_size = cv2.getTextSize(text, font, font_scale, font_thickness)[0]\n",
    "\n",
    "    # Calculate the position to place the text in the middle\n",
    "    text_x = (frame.shape[1] - text_size[0]) // 2\n",
    "    text_y = (frame.shape[0] + text_size[1]) // 2\n",
    "\n",
    "    # Put the text on the image\n",
    "    cv2.putText(frame, text, (text_x, text_y), font, font_scale, colour, font_thickness)\n",
    "\n",
    "    return frame"
   ]
  },
  {
   "cell_type": "code",
   "execution_count": 14,
   "metadata": {},
   "outputs": [],
   "source": [
    "def processGesture(frame, hands, model, classNames):\n",
    "    x, y, _ = frame.shape\n",
    "    frame = cv2.flip(frame, 1)\n",
    "    frame_rgb = cv2.cvtColor(frame, cv2.COLOR_BGR2RGB)\n",
    "    \n",
    "    result = hands.process(frame_rgb)\n",
    "    msg = \"No hand detected. Try again!\"\n",
    "    className = None\n",
    "\n",
    "    if result.multi_hand_landmarks:\n",
    "        landmarks = []\n",
    "        for hand_landmarks in result.multi_hand_landmarks:\n",
    "            for lm in hand_landmarks.landmark:\n",
    "                lmx = int(lm.x * x)\n",
    "                lmy = int(lm.y * y)\n",
    "                landmarks.append([lmx, lmy])\n",
    "\n",
    "        prediction = model.predict([landmarks])\n",
    "        classID = np.argmax(prediction)\n",
    "        className = classNames[classID]\n",
    "\n",
    "        if className not in [\"rock\", \"paper\", \"scissors\"]:\n",
    "            msg = \"Invalid gesture. Try again!\"\n",
    "        else:\n",
    "            msg = processGameResult(className)\n",
    "\n",
    "    return className, msg"
   ]
  },
  {
   "cell_type": "code",
   "execution_count": 11,
   "metadata": {},
   "outputs": [],
   "source": [
    "def processGameResult(player_gesture):\n",
    "    opponent = rockPaperScissors()\n",
    "    result = gameResult(player_gesture, opponent)\n",
    "    if result == -1:\n",
    "        msg_result = \"It's a tie!\"\n",
    "    elif result == 0:\n",
    "        msg_result = \"You lost!\"\n",
    "    else:\n",
    "        msg_result = \"You won!\"\n",
    "    \n",
    "    return f\"I showed {opponent}. {msg_result}!\""
   ]
  },
  {
   "cell_type": "code",
   "execution_count": 12,
   "metadata": {},
   "outputs": [
    {
     "name": "stdout",
     "output_type": "stream",
     "text": [
      "1/1 [==============================] - 0s 434ms/step\n"
     ]
    }
   ],
   "source": [
    "userScore = 0\n",
    "computerScore = 0\n",
    "\n",
    "# Initialize the webcam\n",
    "cap = initializeVideoCapture()\n",
    "\n",
    "while True:\n",
    "    # Read each frame from the webcam\n",
    "    _, frame = cap.read()\n",
    "\n",
    "    x, y, c = frame.shape\n",
    "\n",
    "    # Flip the frame vertically\n",
    "    frame = cv2.flip(frame, 1)\n",
    "    framergb = cv2.cvtColor(frame, cv2.COLOR_BGR2RGB)\n",
    "    # Show the score in the bottom left\n",
    "    cv2.putText(frame, f\"Score: {userScore} - {computerScore}\", (10, x - 25), cv2.FONT_HERSHEY_SIMPLEX, 1, (0, 255, 0), 2, cv2.LINE_AA)\n",
    "\n",
    "    cv2.imshow(\"Rock Paper Scissors\", frame) \n",
    "\n",
    "    # If spacebar is pressed\n",
    "    if cv2.waitKey(1) == ord(' '):\n",
    "        msg = \"Get ready!\"\n",
    "\n",
    "        # Show black screen with message in the middle of the screen\n",
    "        cv2.rectangle(frame, (0, 0), (y, x), (0, 0, 0), -1)\n",
    "        frame = centerText(msg, frame)\n",
    "        cv2.imshow(\"Rock Paper Scissors\", frame)\n",
    "        cv2.waitKey(2000)\n",
    "\n",
    "        countdown(frame, 3)\n",
    "        \n",
    "        className = None\n",
    "\n",
    "        _, frame = cap.read()\n",
    "\n",
    "        # Process the gesture\n",
    "        player_gesture, result_message = processGesture(frame, hands, model, classNames)\n",
    "\n",
    "        # show the result\n",
    "        cv2.putText(frame, f\"You showed {className}\", (10, 50), cv2.FONT_HERSHEY_SIMPLEX, 1, (0, 255, 0), 2, cv2.LINE_AA)\n",
    "        frame = centerText(result_message, frame, colour=(255, 0, 0))\n",
    "        \n",
    "        # Show the final output\n",
    "        cv2.imshow(\"Rock Paper Scissors\", frame) \n",
    "        cv2.waitKey(5000)\n",
    "            \n",
    "    elif cv2.waitKey(1) == ord('q'): \n",
    "        break\n",
    "    else:\n",
    "        continue\n",
    "    \n",
    "        \n",
    "# release the webcam and destroy all active windows\n",
    "cap.release()\n",
    "\n",
    "cv2.destroyAllWindows()"
   ]
  }
 ],
 "metadata": {
  "kernelspec": {
   "display_name": "rt_webcam_ct",
   "language": "python",
   "name": "python3"
  },
  "language_info": {
   "codemirror_mode": {
    "name": "ipython",
    "version": 3
   },
   "file_extension": ".py",
   "mimetype": "text/x-python",
   "name": "python",
   "nbconvert_exporter": "python",
   "pygments_lexer": "ipython3",
   "version": "3.11.5"
  }
 },
 "nbformat": 4,
 "nbformat_minor": 2
}
