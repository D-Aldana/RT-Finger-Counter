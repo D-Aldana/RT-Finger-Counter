{
 "cells": [
  {
   "cell_type": "markdown",
   "metadata": {},
   "source": [
    "# Data Preprocessing\n"
   ]
  },
  {
   "cell_type": "code",
   "execution_count": 6,
   "metadata": {},
   "outputs": [],
   "source": [
    "import pandas as pd\n",
    "from fastai.vision.all import *\n",
    "import os"
   ]
  },
  {
   "cell_type": "markdown",
   "metadata": {},
   "source": [
    "## Labeling the Datasets\n",
    "Read the name of the file to get the number of fingers in the image. For example, \"*_0L.png\" means the image has 0 finger and left hand, \"1R.png\" means the image has 1 finger and right hand, and so on."
   ]
  },
  {
   "cell_type": "code",
   "execution_count": 13,
   "metadata": {},
   "outputs": [],
   "source": [
    "# Label the images\n",
    "def label_func(f): return f.split('_')[1][0]"
   ]
  },
  {
   "cell_type": "markdown",
   "metadata": {},
   "source": [
    "## Data Storage\n"
   ]
  },
  {
   "cell_type": "code",
   "execution_count": 15,
   "metadata": {},
   "outputs": [],
   "source": [
    "data_path = '../data/fingers/'\n",
    "\n",
    "# Create a dataframe with the image names and labels\n",
    "train_file_list = os.listdir(os.path.join(data_path, 'train'))\n",
    "train_data = pd.DataFrame({'file': train_file_list, 'fingers': [label_func(f) for f in train_file_list]})\n",
    "\n",
    "test_file_list = os.listdir(os.path.join(data_path, 'test'))\n",
    "test_data = pd.DataFrame({'file': test_file_list, 'fingers': [label_func(f) for f in test_file_list]})\n"
   ]
  },
  {
   "cell_type": "code",
   "execution_count": null,
   "metadata": {},
   "outputs": [],
   "source": []
  }
 ],
 "metadata": {
  "kernelspec": {
   "display_name": "rt_webcam_ct",
   "language": "python",
   "name": "python3"
  },
  "language_info": {
   "codemirror_mode": {
    "name": "ipython",
    "version": 3
   },
   "file_extension": ".py",
   "mimetype": "text/x-python",
   "name": "python",
   "nbconvert_exporter": "python",
   "pygments_lexer": "ipython3",
   "version": "3.11.5"
  }
 },
 "nbformat": 4,
 "nbformat_minor": 2
}
