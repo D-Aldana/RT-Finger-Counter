{
 "cells": [
  {
   "cell_type": "code",
   "execution_count": 1,
   "metadata": {},
   "outputs": [],
   "source": [
    "# Original code by Madhav Mishra\n",
    "# GitHub: https://github.com/madhav240/hand-detection-and-finger-counting/\n",
    "\n",
    "import numpy as np\n",
    "import cv2 as cv"
   ]
  },
  {
   "cell_type": "code",
   "execution_count": 2,
   "metadata": {},
   "outputs": [],
   "source": [
    "def skinmask(img):\n",
    "    hsvim = cv.cvtColor(img, cv.COLOR_BGR2HSV)\n",
    "    lower = np.array([0, 48, 80], dtype = \"uint8\")\n",
    "    upper = np.array([20, 255, 255], dtype = \"uint8\")\n",
    "    skinRegionHSV = cv.inRange(hsvim, lower, upper)\n",
    "    blurred = cv.blur(skinRegionHSV, (2,2))\n",
    "    ret, thresh = cv.threshold(blurred,0,255,cv.THRESH_BINARY)\n",
    "    return thresh"
   ]
  },
  {
   "cell_type": "code",
   "execution_count": 3,
   "metadata": {},
   "outputs": [],
   "source": [
    "def getcnthull(mask_img):\n",
    "    contours, hierarchy = cv.findContours(mask_img, cv.RETR_TREE, cv.CHAIN_APPROX_SIMPLE)\n",
    "    contours = max(contours, key=lambda x: cv.contourArea(x))\n",
    "    hull = cv.convexHull(contours)\n",
    "    return contours, hull"
   ]
  },
  {
   "cell_type": "code",
   "execution_count": 4,
   "metadata": {},
   "outputs": [],
   "source": [
    "def getdefects(contours):\n",
    "    hull = cv.convexHull(contours, returnPoints=False)\n",
    "    defects = cv.convexityDefects(contours, hull)\n",
    "    return defectsq"
   ]
  },
  {
   "cell_type": "code",
   "execution_count": 5,
   "metadata": {},
   "outputs": [],
   "source": [
    "cap = cv.VideoCapture(0) # '0' for webcam\n",
    "while cap.isOpened():\n",
    "    _, img = cap.read()\n",
    "    try:\n",
    "        mask_img = skinmask(img)\n",
    "        contours, hull = getcnthull(mask_img)\n",
    "        cv.drawContours(img, [contours], -1, (255,255,0), 2)\n",
    "        cv.drawContours(img, [hull], -1, (0, 255, 255), 2)\n",
    "        defects = getdefects(contours)\n",
    "        if defects is not None:\n",
    "            cnt = 0\n",
    "            for i in range(defects.shape[0]):  # calculate the angle\n",
    "                s, e, f, d = defects[i][0]\n",
    "                start = tuple(contours[s][0])\n",
    "                end = tuple(contours[e][0])\n",
    "                far = tuple(contours[f][0])\n",
    "                a = np.sqrt((end[0] - start[0]) ** 2 + (end[1] - start[1]) ** 2)\n",
    "                b = np.sqrt((far[0] - start[0]) ** 2 + (far[1] - start[1]) ** 2)\n",
    "                c = np.sqrt((end[0] - far[0]) ** 2 + (end[1] - far[1]) ** 2)\n",
    "                angle = np.arccos((b ** 2 + c ** 2 - a ** 2) / (2 * b * c))  #      cosine theorem\n",
    "                if angle <= np.pi / 2:  # angle less than 90 degree, treat as fingers\n",
    "                    cnt += 1\n",
    "                    cv.circle(img, far, 4, [0, 0, 255], -1)\n",
    "            if cnt > 0:\n",
    "                cnt = cnt+1\n",
    "            cv.putText(img, str(cnt), (0, 50), cv.FONT_HERSHEY_SIMPLEX,1, (255, 0, 0) , 2, cv.LINE_AA)\n",
    "        cv.imshow(\"img\", img)\n",
    "    except:\n",
    "        pass\n",
    "    if cv.waitKey(1) & 0xFF == ord('q'):\n",
    "        break\n",
    "cap.release()\n",
    "cv.destroyAllWindows()"
   ]
  }
 ],
 "metadata": {
  "kernelspec": {
   "display_name": "rt_webcam_ct",
   "language": "python",
   "name": "python3"
  },
  "language_info": {
   "codemirror_mode": {
    "name": "ipython",
    "version": 3
   },
   "file_extension": ".py",
   "mimetype": "text/x-python",
   "name": "python",
   "nbconvert_exporter": "python",
   "pygments_lexer": "ipython3",
   "version": "3.11.5"
  }
 },
 "nbformat": 4,
 "nbformat_minor": 2
}
